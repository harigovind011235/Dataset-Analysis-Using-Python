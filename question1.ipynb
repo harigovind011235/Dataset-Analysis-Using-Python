{
 "cells": [
  {
   "cell_type": "code",
   "execution_count": 2,
   "metadata": {},
   "outputs": [
    {
     "ename": "NameError",
     "evalue": "name 'pwd' is not defined",
     "output_type": "error",
     "traceback": [
      "\u001b[0;31m---------------------------------------------------------------------------\u001b[0m",
      "\u001b[0;31mNameError\u001b[0m                                 Traceback (most recent call last)",
      "\u001b[0;32m<ipython-input-2-d0e7e904efc0>\u001b[0m in \u001b[0;36m<module>\u001b[0;34m\u001b[0m\n\u001b[1;32m      2\u001b[0m \u001b[0;32mimport\u001b[0m \u001b[0mnumpy\u001b[0m  \u001b[0;32mas\u001b[0m \u001b[0mnp\u001b[0m\u001b[0;34m\u001b[0m\u001b[0m\n\u001b[1;32m      3\u001b[0m \u001b[0;34m\u001b[0m\u001b[0m\n\u001b[0;32m----> 4\u001b[0;31m \u001b[0mpwd\u001b[0m\u001b[0;34m\u001b[0m\u001b[0m\n\u001b[0m",
      "\u001b[0;31mNameError\u001b[0m: name 'pwd' is not defined"
     ]
    }
   ],
   "source": [
    "import pandas as pd\n",
    "import numpy  as np\n"
   ]
  },
  {
   "cell_type": "code",
   "execution_count": 3,
   "metadata": {},
   "outputs": [
    {
     "data": {
      "text/plain": [
       "'/Users/harigovind/Documents/ML NOTES/DAY 3'"
      ]
     },
     "execution_count": 3,
     "metadata": {},
     "output_type": "execute_result"
    }
   ],
   "source": [
    "pwd\n"
   ]
  },
  {
   "cell_type": "code",
   "execution_count": 30,
   "metadata": {},
   "outputs": [
    {
     "name": "stdout",
     "output_type": "stream",
     "text": [
      "The Total number of facilites in Newyork is 218\n",
      "The number of facilities in each Administrative Division is Borough\n",
      "Bronx            34\n",
      "Brooklyn         66\n",
      "Manhattan        48\n",
      "Queens           50\n",
      "Staten Island    20\n",
      "dtype: int64\n",
      "The Facilitynames in Manhattan are 0                                    Engine 4/Ladder 15\n",
      "1                                   Engine 10/Ladder 10\n",
      "2                                              Engine 6\n",
      "3     Engine 7/Ladder 1/Battalion 1/Manhattan Boroug...\n",
      "4                                              Ladder 8\n",
      "5                                     Engine 9/Ladder 6\n",
      "6                       Engine 15/Ladder 18/Battalion 4\n",
      "7                                   Engine 28/Ladder 11\n",
      "8                                              Engine 5\n",
      "9                                             Engine 55\n",
      "10                                 Ladder 20/Division 1\n",
      "11                       Engine 24/Ladder 5/Battalion 2\n",
      "12                                   Engine 33/Ladder 9\n",
      "13                                 Ladder 3/Battalion 6\n",
      "14                                             Squad 18\n",
      "15                                  Engine 34/Ladder 21\n",
      "16                                            Engine 26\n",
      "17                       Engine 3/Ladder 12/Battalion 7\n",
      "18                                   Engine 1/Ladder 24\n",
      "19                                            Engine 14\n",
      "20                                Engine 16 / Ladder 7 \n",
      "21                                            Engine 21\n",
      "22                       Engine 54/Ladder 4/Battalion 9\n",
      "23                                            Engine 23\n",
      "24                                             Rescue 1\n",
      "25                                  Engine 40/Ladder 35\n",
      "26               Ladder 25/District Office 4/Division 3\n",
      "27                                            Engine 74\n",
      "28                                            Engine 65\n",
      "29                    Engine 8 / Ladder 2 / Battalion 8\n",
      "30                                  Engine 39/Ladder 16\n",
      "31                                            Engine 44\n",
      "32                     Engine 22/Ladder 13/Battalion 10\n",
      "33                                  Engine 58/Ladder 26\n",
      "34                                  Engine 53/Ladder 43\n",
      "35                                            Engine 91\n",
      "36                                  Engine 35/Ladder 14\n",
      "37                     Engine 76/Ladder 22/Battalion 11\n",
      "38                                            Engine 47\n",
      "39                                  Engine 59/Ladder 30\n",
      "40                                  Engine 37/Ladder 40\n",
      "41                     Engine 69/Ladder 28/Battalion 16\n",
      "42                                  Engine 80/Ladder 23\n",
      "43                                  Engine 84/Ladder 34\n",
      "44                                            Engine 67\n",
      "45                     Engine 93/Ladder 45/Battalion 13\n",
      "46                                  Engine 95/Ladder 36\n",
      "47                                             Marine 1\n",
      "Name: FacilityName, dtype: object\n"
     ]
    }
   ],
   "source": [
    "mycsv = pd.read_csv('data_ass.csv')\n",
    "\n",
    "\n",
    "\n",
    "mydf = pd.DataFrame(mycsv)\n",
    "\n",
    "\n",
    "count_row = mydf.shape[0]\n",
    "\n",
    "print(\"The Total number of facilites in Newyork is\",count_row)\n",
    "\n",
    "\n",
    "\n",
    "facilities = mydf.groupby('Borough')\n",
    "num = facilities.size()\n",
    "\n",
    "print(\"The number of facilities in each Administrative Division is\",num)\n",
    "\n",
    "\n",
    "\n",
    "x = mydf.loc[mydf['Borough'] == 'Manhattan']\n",
    "\n",
    "print(\"The Facilitynames in Manhattan are\",x.FacilityName)\n",
    "\n"
   ]
  },
  {
   "cell_type": "code",
   "execution_count": null,
   "metadata": {},
   "outputs": [],
   "source": []
  }
 ],
 "metadata": {
  "kernelspec": {
   "display_name": "Python 3",
   "language": "python",
   "name": "python3"
  },
  "language_info": {
   "codemirror_mode": {
    "name": "ipython",
    "version": 3
   },
   "file_extension": ".py",
   "mimetype": "text/x-python",
   "name": "python",
   "nbconvert_exporter": "python",
   "pygments_lexer": "ipython3",
   "version": "3.6.6"
  }
 },
 "nbformat": 4,
 "nbformat_minor": 4
}
